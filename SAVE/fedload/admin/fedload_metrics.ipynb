{
 "cells": [
  {
   "cell_type": "markdown",
   "id": "b338eb91",
   "metadata": {},
   "source": [
    "# 📊 Fed Load Metrics\n",
    "Evaluate parsed data and show summaries or visualizations."
   ]
  },
  {
   "cell_type": "code",
   "execution_count": null,
   "id": "976a61d8",
   "metadata": {},
   "outputs": [],
   "source": [
    "import pandas as pd\n",
    "\n",
    "df = pd.read_csv(\"load.csv\")\n",
    "df.head()"
   ]
  },
  {
   "cell_type": "code",
   "execution_count": null,
   "id": "b868511c",
   "metadata": {},
   "outputs": [],
   "source": [
    "# 🔢 Summary stats\n",
    "print(f\"Total links: {len(df)}\")\n",
    "df['title'].value_counts().head(10)\n"
   ]
  },
  {
   "cell_type": "code",
   "execution_count": null,
   "id": "43c5c7e0",
   "metadata": {},
   "outputs": [],
   "source": [
    "import matplotlib.pyplot as plt\n",
    "\n",
    "df['title'].value_counts().head(10).plot(kind='barh')\n",
    "plt.xlabel(\"Frequency\")\n",
    "plt.title(\"Top 10 Link Titles\")\n",
    "plt.gca().invert_yaxis()\n",
    "plt.tight_layout()\n",
    "plt.show()\n"
   ]
  }
 ],
 "metadata": {},
 "nbformat": 4,
 "nbformat_minor": 5
}
