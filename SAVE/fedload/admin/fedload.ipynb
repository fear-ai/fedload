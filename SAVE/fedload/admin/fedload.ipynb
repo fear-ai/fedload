{
 "cells": [
  {
   "cell_type": "markdown",
   "id": "d17f2b9f",
   "metadata": {},
   "source": [
    "# 🧪 Fed Load Workbook\n",
    "Interactive Python notebook to run and test the Fed Load project."
   ]
  },
  {
   "cell_type": "code",
   "execution_count": null,
   "id": "9e27dced",
   "metadata": {},
   "outputs": [],
   "source": [
    "# ✅ Install dependencies\n",
    "!pip install requests beautifulsoup4 pandas pytest"
   ]
  },
  {
   "cell_type": "code",
   "execution_count": null,
   "id": "648f8681",
   "metadata": {},
   "outputs": [],
   "source": [
    "# 🔍 Load config\n",
    "import json\n",
    "\n",
    "with open(\"fed_load/load_config.json\") as f:\n",
    "    config = json.load(f)\n",
    "config"
   ]
  },
  {
   "cell_type": "code",
   "execution_count": null,
   "id": "792b70e2",
   "metadata": {},
   "outputs": [],
   "source": [
    "# 🚀 Run the loader\n",
    "%run fed_load/main.py"
   ]
  },
  {
   "cell_type": "code",
   "execution_count": null,
   "id": "5eb0afae",
   "metadata": {},
   "outputs": [],
   "source": [
    "# 🧪 Test the parser manually\n",
    "from fed_load.parser import parse_links\n",
    "\n",
    "html = \"\"\"<html><a href='/load/test.htm'>Test Link</a></html>\"\"\"\n",
    "parse_links(html, \"load\", \"https://example.com\")"
   ]
  },
  {
   "cell_type": "code",
   "execution_count": null,
   "id": "5715d713",
   "metadata": {},
   "outputs": [],
   "source": [
    "# ✅ Run all tests\n",
    "!pytest fed_load/tests"
   ]
  }
 ],
 "metadata": {},
 "nbformat": 4,
 "nbformat_minor": 5
}
